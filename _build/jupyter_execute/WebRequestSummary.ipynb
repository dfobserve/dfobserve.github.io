{
 "cells": [
  {
   "cell_type": "markdown",
   "id": "c069c177-8e56-4492-9622-99cf4baf8b14",
   "metadata": {},
   "source": [
    "# Reponses from the Webserver \n",
    "\n",
    "`DFObserve` contains a few wrapper classes that make interacting with the output of a WebRequest more functional. Generally these are used \"under the hood,\" but let's go over how it works for completeness (as well as for adding new functions and features). "
   ]
  },
  {
   "cell_type": "code",
   "execution_count": 1,
   "id": "9fcb0600-82c7-4d3f-ae1d-1c6bfb650e02",
   "metadata": {},
   "outputs": [],
   "source": [
    "from dfobserve.webserver import SendWebRequestNB"
   ]
  },
  {
   "cell_type": "markdown",
   "id": "8f1f08cf-cfdd-4e08-bfa8-0de8527c99b5",
   "metadata": {},
   "source": [
    "We've imported the primary SendWebRequest function. Let's ask for a 'status' from the server:"
   ]
  },
  {
   "cell_type": "code",
   "execution_count": 2,
   "id": "ab311251-2bd2-4e03-b336-6db1613edea4",
   "metadata": {},
   "outputs": [
    {
     "name": "stdout",
     "output_type": "stream",
     "text": [
      "The following commands are queued to send to the following units\n",
      "----------------------------------------------------------------\n",
      "           Name             ip command\n",
      "0  Dragonfly301  192.168.50.11  status\n",
      "1  Dragonfly302  192.168.50.12  status\n",
      "2  Dragonfly303  192.168.50.13  status\n",
      "3  Dragonfly304  192.168.50.14  status\n",
      "4  Dragonfly305  192.168.50.15  status\n",
      "5  Dragonfly306  192.168.50.16  status\n",
      "6  Dragonfly307  192.168.50.17  status\n",
      "7  Dragonfly308  192.168.50.18  status\n",
      "8  Dragonfly309  192.168.50.19  status\n",
      "9  Dragonfly310  192.168.50.20  status\n",
      "Sending Request...\n",
      "\n",
      "\n",
      "Initial Responses:\n",
      "------------------\n",
      "           Name             ip command        response_summary  \\\n",
      "0  Dragonfly301  192.168.50.11  status                 SUCCESS   \n",
      "1  Dragonfly302  192.168.50.12  status  Machine Down (URL err)   \n",
      "2  Dragonfly303  192.168.50.13  status                 SUCCESS   \n",
      "3  Dragonfly304  192.168.50.14  status                 SUCCESS   \n",
      "4  Dragonfly305  192.168.50.15  status                 SUCCESS   \n",
      "5  Dragonfly306  192.168.50.16  status                 SUCCESS   \n",
      "6  Dragonfly307  192.168.50.17  status                 SUCCESS   \n",
      "7  Dragonfly308  192.168.50.18  status                 SUCCESS   \n",
      "8  Dragonfly309  192.168.50.19  status                 SUCCESS   \n",
      "9  Dragonfly310  192.168.50.20  status                 SUCCESS   \n",
      "\n",
      "                full_response  \n",
      "0  APIResponse[192.168.50.11]  \n",
      "1                           1  \n",
      "2  APIResponse[192.168.50.13]  \n",
      "3  APIResponse[192.168.50.14]  \n",
      "4  APIResponse[192.168.50.15]  \n",
      "5  APIResponse[192.168.50.16]  \n",
      "6  APIResponse[192.168.50.17]  \n",
      "7  APIResponse[192.168.50.18]  \n",
      "8  APIResponse[192.168.50.19]  \n",
      "9  APIResponse[192.168.50.20]  \n",
      "nPending: 0\n"
     ]
    }
   ],
   "source": [
    "status = SendWebRequestNB('status')"
   ]
  },
  {
   "cell_type": "markdown",
   "id": "174d7da3-4f8a-4861-8fae-708a523d64db",
   "metadata": {},
   "source": [
    "We can see the verbose reponse from the instrument above. It sent the status command to all IPs, and then we got responses, which in this case were 9 successes and 1 machine down. Notice in the `full_response` column, the successful responses contain `APIResponse` objects. Let's look at one.\n",
    "\n",
    "To do so, we need to retrieve it from the `status` object, which is an instance of `WebRequestSummary`. We can do this easily either by dot notation and the unit name, or using the `get_response()` method which takes in the desired IP address."
   ]
  },
  {
   "cell_type": "code",
   "execution_count": 3,
   "id": "47d1c79b-af9a-4242-9e44-6d1ddefcab70",
   "metadata": {},
   "outputs": [
    {
     "data": {
      "text/plain": [
       "APIResponse[192.168.50.11]"
      ]
     },
     "execution_count": 3,
     "metadata": {},
     "output_type": "execute_result"
    }
   ],
   "source": [
    "df301 = status.Dragonfly301\n",
    "df301"
   ]
  },
  {
   "cell_type": "markdown",
   "id": "36b1c09c-6eec-48a7-a590-508a2f936182",
   "metadata": {},
   "source": [
    "The `APIResponse` object has a handy `info()` method which can tell us its attributes:"
   ]
  },
  {
   "cell_type": "code",
   "execution_count": 4,
   "id": "7143fcf6-55d0-416b-bb16-f1695c952fa5",
   "metadata": {},
   "outputs": [
    {
     "name": "stdout",
     "output_type": "stream",
     "text": [
      "Status Response for Unit at IP: 192.168.50.11 \n",
      " Accessible Fields: \n",
      " ['Activity', 'CameraProperties', 'CurrentExposure', 'Focus', 'LastExposure', 'XtraCalculations', 'FlipFlat', 'FilterTilter']\n"
     ]
    }
   ],
   "source": [
    "df301.info()"
   ]
  },
  {
   "cell_type": "markdown",
   "id": "14667209-e921-4afe-805a-f1db501d947b",
   "metadata": {},
   "source": [
    "So we can now access, say, `CameraProperties` by dot notation:"
   ]
  },
  {
   "cell_type": "code",
   "execution_count": 5,
   "id": "ea9cbb6d-e23f-4ef2-92d8-9fd9ef2871b3",
   "metadata": {},
   "outputs": [
    {
     "data": {
      "text/plain": [
       "                                          0\n",
       "ExposeErrorHasOccurred                False\n",
       "CurrentDirectory                      /data\n",
       "NumberOfImagesTaken                       0\n",
       "FocusModel              21763-10.0*(x-54.0)\n",
       "ReadNoise                                -1\n",
       "Bias                                     -1\n",
       "FilterName                          Unknown\n",
       "SerialNumber                        Unknown\n",
       "IPAddress                     192.168.50.11\n",
       "CurrentTemperature                     None\n",
       "SetpointTemperature                    None\n",
       "AmbientTemperature                     None\n",
       "Power                                  None\n",
       "FocuserSerialNumber                 Unknown\n",
       "LensSerialNumber                    Unknown"
      ]
     },
     "execution_count": 5,
     "metadata": {},
     "output_type": "execute_result"
    }
   ],
   "source": [
    "df301.CameraProperties"
   ]
  },
  {
   "cell_type": "markdown",
   "id": "70da6542-cb6e-476c-aa80-660c73717e23",
   "metadata": {},
   "source": [
    "Each field (e.g., `CameraProperties`) is also a wrapped object (technically, the `WrapDF` object), meaning we can once again dot-notate to get a value out:"
   ]
  },
  {
   "cell_type": "code",
   "execution_count": 6,
   "id": "767aec1c-00e2-4435-9c17-e8fbe1e00680",
   "metadata": {},
   "outputs": [
    {
     "data": {
      "text/plain": [
       "'21763-10.0*(x-54.0)'"
      ]
     },
     "execution_count": 6,
     "metadata": {},
     "output_type": "execute_result"
    }
   ],
   "source": [
    "df301.CameraProperties.FocusModel"
   ]
  },
  {
   "cell_type": "markdown",
   "id": "569b726a-261c-47ad-a678-884c8e405035",
   "metadata": {},
   "source": [
    "For completeness, there is also an explicit `get()` method, e.g., "
   ]
  },
  {
   "cell_type": "code",
   "execution_count": 7,
   "id": "2392f898-2d97-47ff-9a71-6e120a8671f8",
   "metadata": {},
   "outputs": [
    {
     "data": {
      "text/plain": [
       "'21763-10.0*(x-54.0)'"
      ]
     },
     "execution_count": 7,
     "metadata": {},
     "output_type": "execute_result"
    }
   ],
   "source": [
    "df301.CameraProperties.get('FocusModel')"
   ]
  },
  {
   "cell_type": "markdown",
   "id": "c8d02f54-c033-4d75-8793-9803eec6e10e",
   "metadata": {},
   "source": [
    "Finally, the `APIResponse.info()` method introduced above has a verbose mode that will print the fields AND their internals, if you want to see everything all at once:"
   ]
  },
  {
   "cell_type": "code",
   "execution_count": 8,
   "id": "fcccc1f1-5153-42aa-99b9-00c6af885dc5",
   "metadata": {},
   "outputs": [
    {
     "name": "stdout",
     "output_type": "stream",
     "text": [
      "Status Response for Unit at IP: 192.168.50.11\n",
      "\n",
      " \n",
      "\n",
      "ATTRIBUTE: Activity\n",
      "                                    0\n",
      "Any                             False\n",
      "ExposureInProgress              False\n",
      "BirgerCommandInProgress         False\n",
      "FocusRunInProgress              False\n",
      "CalculationInProgress           False\n",
      "CameraCheckInProgress           False\n",
      "RegulationSettingInProgress     False\n",
      "FlipFlatActivityInProgress       None\n",
      "FilterTilterActivityInProgress   None\n",
      "FilterTilterCheckInProgress     False\n",
      "\n",
      " \n",
      "\n",
      "ATTRIBUTE: CameraProperties\n",
      "                                          0\n",
      "ExposeErrorHasOccurred                False\n",
      "CurrentDirectory                      /data\n",
      "NumberOfImagesTaken                       0\n",
      "FocusModel              21763-10.0*(x-54.0)\n",
      "ReadNoise                                -1\n",
      "Bias                                     -1\n",
      "FilterName                          Unknown\n",
      "SerialNumber                        Unknown\n",
      "IPAddress                     192.168.50.11\n",
      "CurrentTemperature                     None\n",
      "SetpointTemperature                    None\n",
      "AmbientTemperature                     None\n",
      "Power                                  None\n",
      "FocuserSerialNumber                 Unknown\n",
      "LensSerialNumber                    Unknown\n",
      "\n",
      " \n",
      "\n",
      "ATTRIBUTE: CurrentExposure\n",
      "                                 0\n",
      "RequestedIntegrationTime      None\n",
      "ElapsedExposureTimeInSeconds  None\n",
      "TimeUntilReadoutInSeconds     None\n",
      "\n",
      " \n",
      "\n",
      "ATTRIBUTE: Focus\n",
      "                                    0\n",
      "CurrentFocusPosition             None\n",
      "CurrentFocusFWHM                 None\n",
      "CurrentFocusNObj                 None\n",
      "LastFocusRunDate                 None\n",
      "AutofocusErrorHasOccurred       False\n",
      "LastFocuserCommandResult         None\n",
      "FocuserCheckResult               None\n",
      "FocuserCheckErrorMessage         None\n",
      "TimeSinceLastFocusRunInSeconds   None\n",
      "FocusNeeded                      None\n",
      "FocusRunExecutionTime            None\n",
      "\n",
      " \n",
      "\n",
      "ATTRIBUTE: LastExposure\n",
      "                          0\n",
      "LastImageFilename      None\n",
      "LastImageTime          None\n",
      "TimeIntervalInSeconds  None\n",
      "Mean                   None\n",
      "Coordinates            None\n",
      "FWHM                   None\n",
      "NObj                   None\n",
      "AxialRatio             None\n",
      "\n",
      " \n",
      "\n",
      "ATTRIBUTE: XtraCalculations\n",
      "                                 0\n",
      "Filename                      None\n",
      "CalculationType               None\n",
      "CalculationTime               None\n",
      "CalculationInProgress        False\n",
      "CalculationResult             None\n",
      "CalculationErrorHasOccurred  False\n",
      "\n",
      " \n",
      "\n",
      "ATTRIBUTE: FlipFlat\n",
      "                      0\n",
      "IsBusy             None\n",
      "IsOpen             None\n",
      "IsOn               None\n",
      "IlluminationLevel  None\n",
      "Result             None\n",
      "Error              None\n",
      "\n",
      " \n",
      "\n",
      "ATTRIBUTE: FilterTilter\n",
      "                                0\n",
      "IsBusy                        NaN\n",
      "Angle                    99999.99\n",
      "AngleGoal                99999.99\n",
      "RawAngle                 99999.99\n",
      "ZeropointAngle           99999.99\n",
      "Result                        NaN\n",
      "Error                         NaN\n",
      "FilterTilterCheckResult       NaN\n"
     ]
    }
   ],
   "source": [
    "df301.info(verbose=True)"
   ]
  },
  {
   "cell_type": "markdown",
   "id": "70ddaf61-54c5-4318-8460-1b76e60ebf16",
   "metadata": {},
   "source": [
    "You may notice that all of the printouts of these objects appear as pandas DataFrames. Currently, `SendWebRequestNB` constructs DataFrames to send, and parses responses into DataFrames as well. The raw DataFrames can be accessed in either a `WebRequestSummary` object or in an `APIResponse` object or in a `WrapDF` object via the `df` attribute. This is not strictly speaking useful unless you prefer to work with a DataFrame for some particular reason. Note that the *attributes* of each object are read off of the DataFrame upon instantiation, and currently, do not support @property tags to read them dynamically from the DataFrame. Hence, one can modify values in the DataFrame and make them inconsistent with the values in the same-named attribute. \n",
    "\n",
    "I plan to fix this in the future but for now it is not a huge concern because *responses* from the Webserver should be read-only in practice anyway. At least at the initial response layer.  "
   ]
  }
 ],
 "metadata": {
  "kernelspec": {
   "display_name": "Python [conda env:nb] *",
   "language": "python",
   "name": "conda-env-nb-py"
  },
  "language_info": {
   "codemirror_mode": {
    "name": "ipython",
    "version": 3
   },
   "file_extension": ".py",
   "mimetype": "text/x-python",
   "name": "python",
   "nbconvert_exporter": "python",
   "pygments_lexer": "ipython3",
   "version": "3.8.12"
  }
 },
 "nbformat": 4,
 "nbformat_minor": 5
}