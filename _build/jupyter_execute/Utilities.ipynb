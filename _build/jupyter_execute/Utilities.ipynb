{
 "cells": [
  {
   "cell_type": "markdown",
   "id": "a472cdd0-292a-4ada-9038-47f874b5c6b9",
   "metadata": {},
   "source": [
    "# Utilities \n",
    "\n",
    "The following indicates some of the base-level utilities present in the package, which can be used interactively in a \"line by line\" observing style. This is particularly useful for testing. \n",
    "\n",
    "As a note, the `DFObserve` package directory (i.e., the outermost directory) contains a file called `interactive_startup.py`. This file contains a bunch of imports to get all the organized utility functions into your interactive Python session in one go, defines a few helper functions, etc. I recommend running this Python file when running interactively. \n",
    "\n",
    "The utilities are all stored in the `dfobserve.utils` submodule, and are organized by the following: Cameras, Filter Tilters, FlipFlats, Hardware, Mount, Network, NMS (New Mexico Skies), and The Sky X. \n",
    "\n",
    "## Camera Utils \n",
    "\n",
    "One of the most useful set of utils for testing, these allow you to take exposures through the webserver. \n",
    "\n",
    "- `AllExpose`: Take an exposure. Supply `exptime`, `which` (to send command to, as recognized by `SendWebRequestNB`), a dictionary of any extras (like `savedir`), and any `**kwargs` recognized by `SendWebRequestNB`. A useful one is `skip`, which lets you skip sending the command to a list of units. \n",
    "- `AllScienceExposure`: Take an exposure in which the ons (narrowband units) take an exposure while the offs take shorter, multiple exposures during. \n",
    "- `AllFlatFieldExposure`: Take a flat on all units (or well, whichever specified by `which`). Relies on you having closed and turned on the flip flats first. \n",
    "- `AllDarkExposure`: Similar but for darks. \n",
    "- `Autofocus`: This runs the focus-run script (by Jeff). Has a bunch of params. \n",
    "- `AllSetCameraTemperatures`: set the camera temps. If you pick a number > 15, it disables the coolers. \n",
    "- `AllCheckCameraTemperatures`: Check that the camera temps are within tolerence of some desired value. \n",
    "\n",
    "A typical \"quick\" exposure command sent to all units might look like:"
   ]
  },
  {
   "cell_type": "code",
   "execution_count": null,
   "id": "a442df90-1ebd-4a67-9be1-862e9f270912",
   "metadata": {},
   "outputs": [],
   "source": [
    "r = AllExpose(exptime=300,\n",
    "              extras={'savedir':'/data/2022-10-24'},\n",
    "              skip=['Dragonfly302']) "
   ]
  },
  {
   "cell_type": "markdown",
   "id": "18d1deab-ab34-4925-8bb3-74a8df5f8439",
   "metadata": {},
   "source": [
    "Because this is an expose type command, a progress bar will fill up with the asked for exposure time, then idle till readout is complete (usually takes a few seconds). \n",
    "\n",
    "If you want to test by sending an expose command to only a few units (i.e., it's easier to describe which to send to than which to skip), there's a `calc_skips()` function in the `interactive_startup.py` that works as:"
   ]
  },
  {
   "cell_type": "code",
   "execution_count": null,
   "id": "630da6cd-4f99-43f7-9eba-3835579c9d9d",
   "metadata": {},
   "outputs": [],
   "source": [
    "skips = calc_skips(use=['Dragonfly309','Dragonfly310'])"
   ]
  },
  {
   "cell_type": "markdown",
   "id": "3c800358-1384-4345-8049-0c6170950292",
   "metadata": {},
   "source": [
    "In the above example, you'd get a skip list of everything but those two units, which you can feed to `AllExpose`. \n",
    "\n",
    "As a reminder, the `which` param on all these expose commands goes to `SendWebRequestNB` which has convenience options like \"all\", \"science\", \"science offs\", \"OH\", \"halpha\" and \"oiii\". "
   ]
  },
  {
   "cell_type": "markdown",
   "id": "8fc457a1-6df5-454c-8fbf-8f58de9ed60f",
   "metadata": {},
   "source": [
    "## Filter Tilter Utils \n",
    "\n",
    "The filter tilter utils are fairly self explanatory. We have \n",
    "\n",
    "- `AllTiltScienceFilters`: Tilt the science filters. Args are `ha_tilt=_` and `oiii_tilt=_`, along with any `**kwargs` recognized by `SendWebRequestNB`. Only the filters marked science will be tilted. \n",
    "- `AllMoveFilters`: Move the science filters by a certain amount. Args are `ha_move` and `oiii_move`. \n",
    "- `AllGetFilterTilts`: Get the filter tilts of the science filters. Returns a df showing the Name, Filter, Angle, RawAngle, and ZeropointAngle. \n",
    "- `AllCheckFilterTilts`: Check that the filter tilts are within tolerance of some desired tilt. I.e., after running `AllTiltScienceFilters` to 10 and 15 degrees, plug 10 and 15 into this function and get a df output that shows whether the filters are in tolerence of this. "
   ]
  },
  {
   "cell_type": "markdown",
   "id": "63823372-afac-434f-9b7b-834df51fa2fc",
   "metadata": {},
   "source": [
    "**Note:** Don't confuse `AllCheckFilterTilts`, which checks the success of a single tilt attempt, with `AllCheckFilterTilters`, a toplevel function part of the `checks` submodule that gets run during `AllCheckDragonfly` or which can be used to mark units down if tilts are out of tolerance across a set of tilt checks. "
   ]
  },
  {
   "cell_type": "markdown",
   "id": "09baa2e1-390e-45ab-8d46-0fbfb1bf0655",
   "metadata": {},
   "source": [
    "## Flip Flat Utils\n",
    "\n",
    "These are even easier. \n",
    "\n",
    "- `AllOpenFlipFlats`: Open them. \n",
    "- `AllCloseFlipFlats`: Close them. \n",
    "- `AllTurnOnFlipFlats`: Turn them on -- arg `lampbrightness` controls the brightness, default is 60. \n",
    "- `AllTurnOffFlipFlats`: Turn them off. \n",
    "\n",
    "\n",
    "All of these take the `which` param recognized by `SendWebRequestNB` along with the manual `skip` param to skip individual units. "
   ]
  },
  {
   "cell_type": "markdown",
   "id": "ffd92ba7-8b20-4c5f-b7a0-838ee390c24a",
   "metadata": {},
   "source": [
    "## Hardware Utils \n",
    "\n",
    "The Hardware Utils is basically a single class, `HardwareStatus`, whose job is to manipulate the hardware status file that has units marked up and down for use during observing. The current file running this is `\"/home/dragonfly/git/Dragonfly-Configuration/DRAGONFLY_HARDWARE_CURRENT_STATUS.csv\"`. \n",
    "\n",
    "**Note**: There is CLI support for this util. See `Command Line Interface`. \n",
    "\n",
    "The basic usage looks like the following examples:"
   ]
  },
  {
   "cell_type": "code",
   "execution_count": null,
   "id": "783a25c1-ba7f-42d6-ae9f-15b243573008",
   "metadata": {},
   "outputs": [],
   "source": [
    "hs = HardwareStatus()"
   ]
  },
  {
   "cell_type": "code",
   "execution_count": null,
   "id": "ded6df05-994f-480b-a2ec-4fa63dd75fd2",
   "metadata": {},
   "outputs": [],
   "source": [
    "hs.InitializeHardwareStatus()"
   ]
  },
  {
   "cell_type": "markdown",
   "id": "af09de11-fed6-4f68-a5fd-32d49975c16e",
   "metadata": {},
   "source": [
    "The above sets all the units to `'UNDETERMINED'`. "
   ]
  },
  {
   "cell_type": "code",
   "execution_count": null,
   "id": "d26530c1-6c61-4430-bbc4-246637bc3240",
   "metadata": {},
   "outputs": [],
   "source": [
    "hs.MarkUnitDown('Dragonfly310') "
   ]
  },
  {
   "cell_type": "markdown",
   "id": "4dabdc2c-dfc4-4be0-80ac-bc0327e5e94c",
   "metadata": {},
   "source": [
    "Mark the Dragonfly310 unit as DOWN. "
   ]
  },
  {
   "cell_type": "code",
   "execution_count": null,
   "id": "091bd20a-dc75-4301-a80d-4db06a8652b3",
   "metadata": {},
   "outputs": [],
   "source": [
    "hs.MarkUnitUp('Dragonfly301')"
   ]
  },
  {
   "cell_type": "markdown",
   "id": "60d7ebbc-8a03-4847-bc23-7ac60b87fb47",
   "metadata": {},
   "source": [
    "Mark the Dragonfly301 unit as UP. "
   ]
  },
  {
   "cell_type": "code",
   "execution_count": null,
   "id": "4452d177-927c-4ee2-8d01-e3105c197b19",
   "metadata": {},
   "outputs": [],
   "source": [
    "hs.MarkAccessibleUnitsUp() "
   ]
  },
  {
   "cell_type": "markdown",
   "id": "66467bde-fa6a-4d7b-8b1e-068fc113a75b",
   "metadata": {},
   "source": [
    "Ping the webserver with a `status` command and mark any units that connect and send a response as UP. "
   ]
  },
  {
   "cell_type": "code",
   "execution_count": null,
   "id": "c174c678-bd0b-4161-86cb-ef68d861c1dd",
   "metadata": {},
   "outputs": [],
   "source": [
    "hs.MarkAllUnitsUp() \n",
    "hs.MarkAllUnitsDown() "
   ]
  },
  {
   "cell_type": "markdown",
   "id": "818ed9b6-b7e0-4707-90f2-04b5cedfcdac",
   "metadata": {},
   "source": [
    "As expected, these mark all units as up or down. "
   ]
  },
  {
   "cell_type": "code",
   "execution_count": null,
   "id": "2bc2673c-4f98-4051-8c16-297dddbe9afb",
   "metadata": {},
   "outputs": [],
   "source": [
    "hs.get_status(which='all') "
   ]
  },
  {
   "cell_type": "markdown",
   "id": "b65a6bf3-b725-497f-ac1f-a1599047fc37",
   "metadata": {},
   "source": [
    "This returns the contents of the csv file, which is the name of each unit and whether it is up or down. When `verbose` is `True`, prints to the terminal. If `return_units` is `True`, returns the status response dataframe. "
   ]
  },
  {
   "cell_type": "code",
   "execution_count": null,
   "id": "f27b975a-d1c1-41e8-8e72-72bc622a8b61",
   "metadata": {},
   "outputs": [],
   "source": [
    "hs.get_status(which='up')\n",
    "# or \n",
    "hs.get_status(which='down')"
   ]
  },
  {
   "cell_type": "markdown",
   "id": "14a1c2ab-0620-4360-b981-9d2cd1ba7235",
   "metadata": {},
   "source": [
    "These return simple lists of which units are marked up or down, e.g., `['Dragonfly301','Dragonfly302',...]`. Useful for quickly grabbing a list to `skip` sending commands to. "
   ]
  },
  {
   "cell_type": "code",
   "execution_count": null,
   "id": "59cabaff-1731-4d7e-b57b-c3aab338649e",
   "metadata": {},
   "outputs": [],
   "source": [
    "hs.get_status(which='viz')"
   ]
  },
  {
   "cell_type": "markdown",
   "id": "a92e875b-61aa-4545-ae5d-ade83f824508",
   "metadata": {},
   "source": [
    "This last handy thing prints a visual map of the layout of the units, and colors them green if up and red if down. "
   ]
  },
  {
   "cell_type": "markdown",
   "id": "8b68ecdb-8960-4681-8d84-2bd52a9643dd",
   "metadata": {},
   "source": [
    "## Mount Utils \n",
    "\n",
    "Utilities for controlling the mount. At this point *most* are just wrappers for Bob's code. \n",
    "\n",
    "- `DitherMount`: Dither the mount. Takes two values, `east=_` and `north=_`, floats in arcmin. Will dither by that amount. \n",
    "- `GuideMount`: Runs `guider magic`. \n",
    "- `HomeMount`: Homes the mount\n",
    "- `StartMount`: Starts tracking\n",
    "- `StopMount`: Stops Tracking \n",
    "- `ParkMount`: Parks Mount \n",
    "- `SlewMount`: Slew the mount to a target (target must be in the SkyX Database). "
   ]
  },
  {
   "cell_type": "markdown",
   "id": "4d9de938-aab6-4684-8f87-6ad4f0c4e2ad",
   "metadata": {},
   "source": [
    "## Network Utils \n",
    "\n",
    "Grab a dataframe with the unit names, IP addresses, which filter is on them, and some other ancillary info by calling"
   ]
  },
  {
   "cell_type": "code",
   "execution_count": null,
   "id": "1a1fc589-6c67-4def-b592-0109b13214fa",
   "metadata": {},
   "outputs": [],
   "source": [
    "sdf = get_status_df() "
   ]
  },
  {
   "cell_type": "markdown",
   "id": "7579dbd3-596c-4d3f-b828-433f6c621e2c",
   "metadata": {},
   "source": [
    "## NMS Utils \n",
    "\n",
    "Grab info about what's going on in NMS. (Under Construction). \n",
    "\n",
    "- `isRoofOpen`: Returns true if the dome is open, false if not. "
   ]
  },
  {
   "cell_type": "markdown",
   "id": "1b28faf3-24d4-45e1-a68a-91f48ee6e3a1",
   "metadata": {},
   "source": [
    "## SkyX Utils \n",
    "\n",
    "Wrappers for JS calls to the SkyX. \n",
    "\n",
    "- `check_target_exists`: Add a target name and see whether it exists in the skyX database. Raises a `TargetNotFound` Error if not. \n",
    "- `GetMountPointing`: Return parsed dictionary containing the ra, dec, alt, and az of the telescope as returned by the mount. Used for passing into the expose commands for being saved in a header. "
   ]
  }
 ],
 "metadata": {
  "kernelspec": {
   "display_name": "Python [conda env:testing] *",
   "language": "python",
   "name": "conda-env-testing-py"
  },
  "language_info": {
   "codemirror_mode": {
    "name": "ipython",
    "version": 3
   },
   "file_extension": ".py",
   "mimetype": "text/x-python",
   "name": "python",
   "nbconvert_exporter": "python",
   "pygments_lexer": "ipython3",
   "version": "3.10.4"
  }
 },
 "nbformat": 4,
 "nbformat_minor": 5
}