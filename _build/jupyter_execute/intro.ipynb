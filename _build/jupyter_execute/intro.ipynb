{
 "cells": [
  {
   "cell_type": "markdown",
   "metadata": {},
   "source": [
    "# DFObserve Guide\n",
    "\n",
    "This documentation is intended to accompany the docs/api to provide general practices for using the `DFObserve` package. \n",
    "\n",
    "Let's dive in! \n",
    "\n",
    "## Modules \n",
    "\n",
    "`DFObserve` is currently split into four modules: `observing`, `webserver`, `utils`, and `standards`. \n",
    "\n",
    "- `observing` contains the tools for setting up observations, including the `Observation` class and `AutoObserve` class. \n",
    "- `webserver` contains tools for using the webserver to interact with the instrument.\n",
    "- `utils` contains base level convenience functions, stored in submodules such as `CameraUtils`, `FilterTilterUtils`, etc... \n",
    "- `standards` contains tools for selecting standard stars (or other objects) for use during observing. \n",
    "\n",
    "In the pages on this site, we'll cover each of these in some detail, with example usage. But from a top-level, \"perfect world\" scenario, one won't interact with much more than the `Observation` and `AutoObserve` classes. So that will be our first stop!"
   ]
  }
 ],
 "metadata": {
  "kernelspec": {
   "display_name": "Python 3",
   "language": "python",
   "name": "python3"
  },
  "language_info": {
   "codemirror_mode": {
    "name": "ipython",
    "version": 3
   },
   "file_extension": ".py",
   "mimetype": "text/x-python",
   "name": "python",
   "nbconvert_exporter": "python",
   "pygments_lexer": "ipython3",
   "version": "3.8.5"
  }
 },
 "nbformat": 4,
 "nbformat_minor": 4
}