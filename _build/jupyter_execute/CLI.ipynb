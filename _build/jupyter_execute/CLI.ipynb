{
 "cells": [
  {
   "cell_type": "markdown",
   "id": "8073b43f-8c64-4203-8d4e-81eadc445232",
   "metadata": {},
   "source": [
    "# Command Line Interface"
   ]
  },
  {
   "cell_type": "markdown",
   "id": "ae1e70ff-857a-462f-b1ae-215e048504b5",
   "metadata": {},
   "source": [
    "Some of the utilities and functions have been set up to allow for command line interface (CLI) usage. This is primarily for testing convenience but not the main purpose of this package. I usually recommend opening ipython and using that, since the rich status objects returned can be interrogated. \n",
    "\n",
    "The primary supported CLI tools at the moment relate to `AllCheckDragonfly`, but some of the others have it as well. CLI is instantiated via the `fire` package by Google. Here's a running list. \n",
    "\n",
    "## AllCheckDragonfly (and associated)\n",
    "\n",
    "All of the afternoon-check tools have CLI enabled. So within python, where you'd run:"
   ]
  },
  {
   "cell_type": "code",
   "execution_count": null,
   "id": "426f641a-a88a-45fa-922b-6c3f64704581",
   "metadata": {},
   "outputs": [],
   "source": [
    "from dfobserve.checks import AllCheckDragonfly \n",
    "\n",
    "r = AllCheckDragonfly() "
   ]
  },
  {
   "cell_type": "markdown",
   "id": "466e84a2-281b-4488-8ff8-bd0925b08fbd",
   "metadata": {},
   "source": [
    "From the terminal, you'd run "
   ]
  },
  {
   "cell_type": "code",
   "execution_count": null,
   "id": "c2dc96dd-7715-4c19-865c-d8c3b720c566",
   "metadata": {},
   "outputs": [],
   "source": [
    "dfAllCheckDragonfly"
   ]
  },
  {
   "cell_type": "markdown",
   "id": "a51793b0-9b23-469f-b5db-034a8a010b22",
   "metadata": {},
   "source": [
    "As a note, the definitions here in the terminals are just aliases in the `~/.bashrc` script. What's actually being run is "
   ]
  },
  {
   "cell_type": "code",
   "execution_count": null,
   "id": "16075d4a-267a-47d7-8dd5-45adfd61d159",
   "metadata": {},
   "outputs": [],
   "source": [
    "python ~/git/DFObserve/dfobserve/checks/check_dragonfly.py "
   ]
  },
  {
   "cell_type": "markdown",
   "id": "dfaef761-acce-4d37-a7e3-054af1156b45",
   "metadata": {},
   "source": [
    "After which args are passed and parsed. For example, our standard command-line usage of skipping certain tests looks like:"
   ]
  },
  {
   "cell_type": "code",
   "execution_count": null,
   "id": "eae287f4-44a6-4b4e-9a13-3cd7437b162d",
   "metadata": {},
   "outputs": [],
   "source": [
    "dfAllCheckDragonfly --skip=focusers,mount"
   ]
  },
  {
   "cell_type": "markdown",
   "id": "bf0c403c-fd69-44be-97a8-03f6ad6a1c28",
   "metadata": {},
   "source": [
    "The skippable tests are\n",
    "- `mount`, which skips the mount test, \n",
    "- `network`, which skips marking all accessible units up first. Only recommended when running allcheck a second or third time after already marking some units down. \n",
    "- `focusers`, which skips the focuser checks (which involve moving the focusers by N steps and checking tolerance),\n",
    "- `cameras`, which skips the camera tests that marks units down if bias testing is out of acceptable bounds\n",
    "- `filters`, which skips tilting the filters to certain tilts and checking tolerances (default is 5,0). \n",
    "\n",
    "At the end, a summary with the map of units colored by up/down is showed. \n",
    "\n",
    "Techincally, some of those tests have optional `kwarg_dict={}` arguments allowing you to modify the nature of the checks (say, testing different or more angles on the filter tilters, or the tolerance of the steps in the focuser test). But the goal is to have an well-calibrated nightly set of defaults one doesn't need to change. \n",
    "\n",
    "As mentioned, the submodules of AllCheckDragonfly can be run individually. From the command line, the supported options (currently) are "
   ]
  },
  {
   "cell_type": "code",
   "execution_count": null,
   "id": "5782e248-3534-43c8-83ef-ba198a3be055",
   "metadata": {},
   "outputs": [],
   "source": [
    "AllCheckCameras"
   ]
  },
  {
   "cell_type": "markdown",
   "id": "7383aef8-fedd-46de-b576-19bb350fe90e",
   "metadata": {},
   "source": [
    "and"
   ]
  },
  {
   "cell_type": "code",
   "execution_count": null,
   "id": "63a4f6d5-3afb-4286-b3b1-64b7413f0be7",
   "metadata": {},
   "outputs": [],
   "source": [
    "AllCheckFocusers"
   ]
  },
  {
   "cell_type": "markdown",
   "id": "b8162d85-83cb-4804-91d7-90c81f397cf6",
   "metadata": {},
   "source": [
    "## Hardware Status\n",
    "\n",
    "The other main thing you can do from CLI is mess with `HardwareStatus()` (read about it more in Utilities). This is aliased to the command `dfhardware`, and you can run any of the methods as follows:"
   ]
  },
  {
   "cell_type": "code",
   "execution_count": null,
   "id": "f1cc7ffc-90e0-46e5-aaab-4a47abccf86a",
   "metadata": {},
   "outputs": [],
   "source": [
    "dfhardware get_status viz"
   ]
  },
  {
   "cell_type": "code",
   "execution_count": null,
   "id": "21723f88-5d15-406f-856b-317cbb8ae4f1",
   "metadata": {},
   "outputs": [],
   "source": [
    "dfhardware get_status down"
   ]
  },
  {
   "cell_type": "code",
   "execution_count": null,
   "id": "b8f7133c-490d-49bb-bd63-3a55d54187b2",
   "metadata": {},
   "outputs": [],
   "source": [
    "dfhardware MarkUnitDown Dragonfly301"
   ]
  },
  {
   "cell_type": "code",
   "execution_count": null,
   "id": "29202273-cfb7-4350-bf37-26be39ec8ab9",
   "metadata": {},
   "outputs": [],
   "source": [
    "dfhardware MarkAccessibleUnitsUp"
   ]
  },
  {
   "cell_type": "code",
   "execution_count": null,
   "id": "1b1aff29-0deb-44b0-b564-e4b8b09776ae",
   "metadata": {},
   "outputs": [],
   "source": [
    "dfhardware MarkAllUnitsDown"
   ]
  },
  {
   "cell_type": "markdown",
   "id": "ac7f7a13-7fda-4347-ac26-b700c4098d43",
   "metadata": {},
   "source": [
    "For now, that's about it, but I may add some more over time. "
   ]
  }
 ],
 "metadata": {
  "kernelspec": {
   "display_name": "Python [conda env:testing] *",
   "language": "python",
   "name": "conda-env-testing-py"
  },
  "language_info": {
   "codemirror_mode": {
    "name": "ipython",
    "version": 3
   },
   "file_extension": ".py",
   "mimetype": "text/x-python",
   "name": "python",
   "nbconvert_exporter": "python",
   "pygments_lexer": "ipython3",
   "version": "3.10.4"
  }
 },
 "nbformat": 4,
 "nbformat_minor": 5
}