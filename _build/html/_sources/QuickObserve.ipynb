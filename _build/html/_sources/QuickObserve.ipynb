{
 "cells": [
  {
   "cell_type": "markdown",
   "id": "84d58765-f9c3-435e-9473-80dc1632d18c",
   "metadata": {},
   "source": [
    "# QuickObserve\n",
    "\n",
    "While `AutoObserve` will be the primary driver of nightly observations, it may be useful to be able to manually set up and run a night's worth of observing explictly (that is, no observing plans, simply write out in a script what you want the telescope to do). This is a similar method to how the old Narrowband `.sh` scripts worked. \n",
    "\n",
    "Similar functionality is provided by the `QuickObserve` class. The class is responsible for setting up a target and carrying out observations of it... and nothing more. That means it will slew to the target, set the tilts, start guiding, expose, stop guiding, and exit. Meanwhile, other things you may want (and need) to do should be done in a standalone script surrounding `observe` calls of a `QuickObserve` object. \n",
    "\n",
    "Let's see how this looks in practice. Below is an example of a \"full night\" script, in which we establish two `QuickObserve` targets: M82, and some standard star. The needed primatives (direct control utility functions) are called to ensure everything surrounding the observation is as needed. And in this case, we do a flatfield run. "
   ]
  },
  {
   "cell_type": "code",
   "execution_count": null,
   "id": "d9550b6d-4214-4c79-931e-0c7f0a6095ec",
   "metadata": {},
   "outputs": [],
   "source": [
    "# Imports\n",
    "from dfobserve.observing import QuickObserve \n",
    "from dfobserve.utils.CameraUtils import (AllSetCameraTemperatures, \n",
    "                                         AllFlatFieldExposure,\n",
    "                                         AllDarkExposure)\n",
    "from dfobserve.utils.FlipFlatUtils import (AllCloseFlipFlats, \n",
    "                                           AllOpenFlipFlats, \n",
    "                                           AllTurnOffFlipFlaps, \n",
    "                                           AllTurnOnFlipFlaps) \n",
    "from dfobserve.utils.MountUtils import StartMount, StopMount, ParkMount\n",
    "import time"
   ]
  },
  {
   "cell_type": "code",
   "execution_count": null,
   "id": "fff7bb46-8e1f-4b88-92da-e6f9c984273d",
   "metadata": {},
   "outputs": [],
   "source": [
    "# QuickObserve Object Setups\n",
    "m82 = QuickObserve('M82',\n",
    "                    ha_tilt=12.5,\n",
    "                    oiii_tilt=12.0,\n",
    "                    exptime=3600,\n",
    "                    offband_exptime=600,\n",
    "                    niter=1,\n",
    "                    )\n",
    "\n",
    "\n",
    "some_standard = QuickObserve('GD 153',\n",
    "                            ha_tilt=12.5,\n",
    "                            oiii_tilt=12.0,\n",
    "                            exptime=60,\n",
    "                            offband_exptime=5,\n",
    "                            niter=2)"
   ]
  },
  {
   "cell_type": "code",
   "execution_count": null,
   "id": "170bd87b-db1f-4483-a1e5-f51aa788f9c6",
   "metadata": {},
   "outputs": [],
   "source": [
    "# Line By Line Execution \n",
    "AllSetCameraTemperatures(-30)\n",
    "time.sleep(30)\n",
    "# You could check camera temps here \n",
    "AllOpenFlipFlats() \n",
    "StartMount()\n",
    "# Observe() handles slewing to target, guiding, tilting, dithering, \n",
    "# and taking niter sci exposures (with offs throughout) (then dithers back)\n",
    "m82.observe(dither_east=15,dither_north=15) \n",
    "m82.observe(dither_east=-15,dither_north=-15)\n",
    "\n",
    "# This block takes some flats\n",
    "AllCloseFlipFlats()\n",
    "AllTurnOnFlipFlaps() \n",
    "AllFlatFieldExposure(exptime=5,n=3) #which=science by default so just those with flipflats\n",
    "AllTurnOffFlipFlaps() \n",
    "AllOpenFlipFlats() \n",
    "\n",
    "some_standard.observe() # Now slew to standard and do stuff \n",
    "\n",
    "AllCloseFlipFlats()\n",
    "ParkMount() \n",
    "StopMount() \n",
    "AllDarkExposure(3600)\n",
    "AllSetCameraTemperatures(20)"
   ]
  }
 ],
 "metadata": {
  "kernelspec": {
   "display_name": "Python [conda env:nb] *",
   "language": "python",
   "name": "conda-env-nb-py"
  },
  "language_info": {
   "codemirror_mode": {
    "name": "ipython",
    "version": 3
   },
   "file_extension": ".py",
   "mimetype": "text/x-python",
   "name": "python",
   "nbconvert_exporter": "python",
   "pygments_lexer": "ipython3",
   "version": "3.8.12"
  }
 },
 "nbformat": 4,
 "nbformat_minor": 5
}
