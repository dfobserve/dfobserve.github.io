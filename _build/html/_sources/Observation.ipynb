{
 "cells": [
  {
   "cell_type": "markdown",
   "metadata": {},
   "source": [
    "# The Observation Class\n",
    "\n",
    "These two classes work in concert to setup and run observations on the telescope at a high level. They have many defaults set but allow for a lot of flexibility as well. \n",
    "\n",
    "Below, we'll set up a standard \"observing script\" or configuration, which will tell the codebase how to carry out observations. \n",
    "\n",
    "## Observation\n",
    "\n",
    "The `Observation` class is responsible for setting up individual targets and the \"way\" in which we want to observe them. Let's import it:"
   ]
  },
  {
   "cell_type": "code",
   "execution_count": 1,
   "metadata": {},
   "outputs": [],
   "source": [
    "from dfobserve.observing import Observation"
   ]
  },
  {
   "cell_type": "markdown",
   "metadata": {},
   "source": [
    "### Instantiation \n",
    "The first thing we need to do is instantiate an `Observation` object. This can be done with a few simple keywords:"
   ]
  },
  {
   "cell_type": "code",
   "execution_count": 2,
   "metadata": {},
   "outputs": [],
   "source": [
    "m82 = Observation(target='M82',\n",
    "                  exptime=3600,\n",
    "                  iterations=2,\n",
    "                  do_focus=True,\n",
    "                  min_altitude=35)"
   ]
  },
  {
   "cell_type": "markdown",
   "metadata": {},
   "source": [
    "We've now set up `m82` as a target. \n",
    "\n",
    "- The `target` keyword specifies a name. For now, this *must* be a name recognized by TheSkyX. You can confirm this by running the `check_target()` method so long as you are on the machine with TheSkyX installed.\n",
    "- The `exptime` keyword sets the primary exposure time (that is, for the science filters on the target). \n",
    "- The `iterations` keyword sets the number of science exposures to take in total on this target \n",
    "- `do_focus` indicates that we want to do focus runs before starting observations of this target\n",
    "- `min_altitude` sets a mininum altitude to observe the target at. If it is below this altitude at the start of a proposed observation, it won't exposure and will move on.\n",
    "\n",
    "### Observing Configurations\n",
    "\n",
    "Now that we have the basics, we can add some more specific configurations to our observations:"
   ]
  },
  {
   "cell_type": "code",
   "execution_count": 3,
   "metadata": {},
   "outputs": [],
   "source": [
    "m82.configure_observation(wait_until='target_rise',\n",
    "                    dither_angle=15, # dither angle from target center\n",
    "                    dither_pattern=[5,3,7,1,9,2,8,4,6], # dither pattern on grid\n",
    "                    randomize_dithers=True, #choose random dither pattern\n",
    "                    off_band_exptime=600, # 20 sec exposures for the off bands\n",
    "                    off_band_throughout=True)"
   ]
  },
  {
   "cell_type": "markdown",
   "metadata": {},
   "source": [
    "Here, we use the `configure_observations()` method to set a few more parameters. \n",
    "\n",
    "- `wait_until` sets when the code will idle until before starting up observations. Options include `'sunset'`, `'moonset'`, `'target_rise'` or a manual time, in the format `'HH:MM:SS'`. That time is assumed to be local, but if you enter something that ends in UTC, e.g., `'HH:MM:SSUTC'`, it will convert to UTC. Note that this is only really important for the first target in a targetlist, as the others should execute as soon as the first target finishes. \n",
    "- `dither_angle` sets the amount the telescope will dither between exposures (in arcminutes)\n",
    "- `dither pattern` tells it which pointings in a 3x3 grid dither pattern to observe. The pattern looks like \n",
    "\n",
    "\n",
    "|   |   |  |\n",
    "|--- | --- | --- |\n",
    "| 1  |  2  |  3 |\n",
    "| 4  |  5  |  6 |\n",
    "| 7  |  8  |  9 |\n",
    "\n",
    "- `randomize_dithers` will shuffle the dither pattern used, so that different pointings are (hopefully) obtained over time. \n",
    "- `off_band_exptime` sets how long the medium band filters should expose. This is usually set to something shorter than the primary exptime to avoid saturation.\n",
    "- `off_band_throught` is a flag which tells the code to take as many exposures of length `off_band_exptime` during each science exposure. Otherwise only 1 will be taken.\n"
   ]
  },
  {
   "cell_type": "markdown",
   "metadata": {},
   "source": [
    "### Calibration Configurations\n",
    "\n",
    "Next, lets configure the basic calibrations (darks and flats):"
   ]
  },
  {
   "cell_type": "code",
   "execution_count": 4,
   "metadata": {},
   "outputs": [],
   "source": [
    "m82.configure_calibrations(n_darks=1,\n",
    "                            dark_exptime=3600,\n",
    "                            take_darks='after',\n",
    "                            n_flats=1,\n",
    "                            flat_exptime=60,\n",
    "                            take_flats='all')"
   ]
  },
  {
   "cell_type": "markdown",
   "metadata": {},
   "source": [
    "These are pretty self explanatory. We decide how many darks and flats to take (and what the exposure time for each should be). We also decide *when* we want to take each. Options include 'before', 'between', 'after', and 'all'. If we select before or after, that calibration frame will only be taken before, or after, all the science/offband exposures. If we select between, we'll get them in between iterations, and if we select all, we'll get them before, between, and after. We can add more options here later (like 'before-after'). \n",
    "\n",
    "The above configuration witll take flats (1) between every science iteration, as well as before and after the target is observed, while the darks will only happen at the end for this object. \n",
    "\n",
    "### Standards Configuration \n",
    "\n",
    "We can now setup how we want standards (like standard stars) to be observed."
   ]
  },
  {
   "cell_type": "code",
   "execution_count": 5,
   "metadata": {},
   "outputs": [],
   "source": [
    "m82.configure_standards(use='nearest',\n",
    "                        exptime=30,\n",
    "                        n_standards=1,\n",
    "                        when='all')"
   ]
  },
  {
   "cell_type": "markdown",
   "metadata": {},
   "source": [
    "The code (will) maintain a list of accessible standards; here we select `use='nearest'` to just go to the nearest one to the target. We set the number of standards to take, and when to take them (here, we'll have it before, between iterations, and after the target is observed). \n",
    "\n",
    "### Setting Tilts\n",
    "We can easily set the tilts for the target:"
   ]
  },
  {
   "cell_type": "code",
   "execution_count": 6,
   "metadata": {},
   "outputs": [],
   "source": [
    "m82.set_tilts('halpha',14.5)\n",
    "m82.set_tilts('oiii',12.6)"
   ]
  },
  {
   "cell_type": "markdown",
   "metadata": {},
   "source": [
    "(this function takes many iterations of those strings, like 'Halpha' and 'o3'). \n",
    "\n",
    "As a reminder, you can turn velocities to tilts using the handy online calculator."
   ]
  },
  {
   "cell_type": "markdown",
   "metadata": {},
   "source": [
    "## Constructing an Observing Plan \n",
    "\n",
    "All of the above methods simply serve as data entry. To combine it all together into a formal plan (along with checking various components to be sure things look good), we need to run `construct_observing_plan()`.\n"
   ]
  },
  {
   "cell_type": "code",
   "execution_count": 7,
   "metadata": {},
   "outputs": [
    {
     "data": {
      "text/plain": [
       "[{'type': 'flat', 'exptime': 60},\n",
       " {'type': 'focus'},\n",
       " {'type': 'standard', 'exptime': 30, 'use': 'nearest'},\n",
       " {'type': 'science', 'target': 'M82', 'exptime': 3600},\n",
       " {'type': 'calibration', 'target': 'M82', 'exptime': 600, 'n': 6},\n",
       " {'type': 'flat', 'exptime': 60},\n",
       " {'type': 'standard', 'exptime': 30, 'use': 'nearest'},\n",
       " {'type': 'science', 'target': 'M82', 'exptime': 3600},\n",
       " {'type': 'calibration', 'target': 'M82', 'exptime': 600, 'n': 6},\n",
       " {'type': 'standard', 'exptime': 30, 'use': 'nearest'},\n",
       " {'type': 'flat', 'exptime': 60},\n",
       " {'type': 'dark', 'exptime': 3600}]"
      ]
     },
     "execution_count": 7,
     "metadata": {},
     "output_type": "execute_result"
    }
   ],
   "source": [
    "m82.construct_observing_plan()"
   ]
  },
  {
   "cell_type": "markdown",
   "metadata": {},
   "source": [
    "The output of this is the internal that controls what order the code will go through when taking exposures. We can also view the plan in a more friendly way (see below). But let's first show some ways in which `construct_observing_plan()` can error out if there are issues with the observing plan. \n",
    "\n",
    "On the date of this writing (2022-05-05), The system NGC 5846 rises above the typical minimum altitude of 35 degrees at around 10 pm. Let's see what happens if we add this object, and try to observe it with a `wait_until` of sunset."
   ]
  },
  {
   "cell_type": "code",
   "execution_count": 8,
   "metadata": {},
   "outputs": [
    {
     "name": "stdout",
     "output_type": "stream",
     "text": [
      "2022-05-06 19:44:35.553\n",
      "2022-05-06 21:57:20.283\n"
     ]
    },
    {
     "ename": "TargetNotUpError",
     "evalue": "You selected a sunset start for NGC 5846, but NGC 5846 \n is not above minimum altitude (35 deg) at sunset. \n You probably want None or target_rise",
     "output_type": "error",
     "traceback": [
      "\u001b[0;31m---------------------------------------------------------------------------\u001b[0m",
      "\u001b[0;31mTargetNotUpError\u001b[0m                          Traceback (most recent call last)",
      "Input \u001b[0;32mIn [8]\u001b[0m, in \u001b[0;36m<cell line: 12>\u001b[0;34m()\u001b[0m\n\u001b[1;32m      1\u001b[0m ngc \u001b[38;5;241m=\u001b[39m Observation(target\u001b[38;5;241m=\u001b[39m\u001b[38;5;124m'\u001b[39m\u001b[38;5;124mNGC 5846\u001b[39m\u001b[38;5;124m'\u001b[39m,\n\u001b[1;32m      2\u001b[0m                   exptime\u001b[38;5;241m=\u001b[39m\u001b[38;5;241m3600\u001b[39m,\n\u001b[1;32m      3\u001b[0m                   iterations\u001b[38;5;241m=\u001b[39m\u001b[38;5;241m2\u001b[39m,\n\u001b[1;32m      4\u001b[0m                   do_focus\u001b[38;5;241m=\u001b[39m\u001b[38;5;28;01mTrue\u001b[39;00m,\n\u001b[1;32m      5\u001b[0m                   min_altitude\u001b[38;5;241m=\u001b[39m\u001b[38;5;241m35\u001b[39m)\n\u001b[1;32m      6\u001b[0m ngc\u001b[38;5;241m.\u001b[39mconfigure_observation(wait_until\u001b[38;5;241m=\u001b[39m\u001b[38;5;124m'\u001b[39m\u001b[38;5;124msunset\u001b[39m\u001b[38;5;124m'\u001b[39m,\n\u001b[1;32m      7\u001b[0m                     dither_angle\u001b[38;5;241m=\u001b[39m\u001b[38;5;241m15\u001b[39m, \u001b[38;5;66;03m# dither angle from target center\u001b[39;00m\n\u001b[1;32m      8\u001b[0m                     dither_pattern\u001b[38;5;241m=\u001b[39m[\u001b[38;5;241m5\u001b[39m,\u001b[38;5;241m3\u001b[39m,\u001b[38;5;241m7\u001b[39m,\u001b[38;5;241m1\u001b[39m,\u001b[38;5;241m9\u001b[39m,\u001b[38;5;241m2\u001b[39m,\u001b[38;5;241m8\u001b[39m,\u001b[38;5;241m4\u001b[39m,\u001b[38;5;241m6\u001b[39m], \u001b[38;5;66;03m# dither pattern on grid\u001b[39;00m\n\u001b[1;32m      9\u001b[0m                     randomize_dithers\u001b[38;5;241m=\u001b[39m\u001b[38;5;28;01mTrue\u001b[39;00m, \u001b[38;5;66;03m#choose random dither pattern\u001b[39;00m\n\u001b[1;32m     10\u001b[0m                     off_band_exptime\u001b[38;5;241m=\u001b[39m\u001b[38;5;241m600\u001b[39m, \u001b[38;5;66;03m# 20 sec exposures for the off bands\u001b[39;00m\n\u001b[1;32m     11\u001b[0m                     off_band_throughout\u001b[38;5;241m=\u001b[39m\u001b[38;5;28;01mTrue\u001b[39;00m)\n\u001b[0;32m---> 12\u001b[0m \u001b[43mngc\u001b[49m\u001b[38;5;241;43m.\u001b[39;49m\u001b[43mconstruct_observing_plan\u001b[49m\u001b[43m(\u001b[49m\u001b[43m)\u001b[49m\n",
      "File \u001b[0;32m~/Dropbox/DFObserve_guide/dfobserve/observing/Observation.py:397\u001b[0m, in \u001b[0;36mObservation.construct_observing_plan\u001b[0;34m(self, date)\u001b[0m\n\u001b[1;32m    395\u001b[0m \u001b[38;5;28mprint\u001b[39m(target_rise)\n\u001b[1;32m    396\u001b[0m \u001b[38;5;28;01mif\u001b[39;00m sunset \u001b[38;5;241m<\u001b[39m target_rise:\n\u001b[0;32m--> 397\u001b[0m     \u001b[38;5;28;01mraise\u001b[39;00m TargetNotUpError(\n\u001b[1;32m    398\u001b[0m         \u001b[38;5;124mf\u001b[39m\u001b[38;5;124m\"\u001b[39m\u001b[38;5;124mYou selected a sunset start for \u001b[39m\u001b[38;5;132;01m{\u001b[39;00m\u001b[38;5;28mself\u001b[39m\u001b[38;5;241m.\u001b[39mtarget\u001b[38;5;132;01m}\u001b[39;00m\u001b[38;5;124m, but \u001b[39m\u001b[38;5;132;01m{\u001b[39;00m\u001b[38;5;28mself\u001b[39m\u001b[38;5;241m.\u001b[39mtarget\u001b[38;5;132;01m}\u001b[39;00m\u001b[38;5;124m \u001b[39m\u001b[38;5;130;01m\\n\u001b[39;00m\u001b[38;5;124m is not above minimum altitude (\u001b[39m\u001b[38;5;132;01m{\u001b[39;00m\u001b[38;5;28mself\u001b[39m\u001b[38;5;241m.\u001b[39mmin_altitude\u001b[38;5;132;01m}\u001b[39;00m\u001b[38;5;124m deg) at sunset. \u001b[39m\u001b[38;5;130;01m\\n\u001b[39;00m\u001b[38;5;124m You probably want None or target_rise\u001b[39m\u001b[38;5;124m\"\u001b[39m\n\u001b[1;32m    399\u001b[0m     )\n\u001b[1;32m    400\u001b[0m \u001b[38;5;28;01melse\u001b[39;00m:\n\u001b[1;32m    401\u001b[0m     \u001b[38;5;28mself\u001b[39m\u001b[38;5;241m.\u001b[39mOBS_START \u001b[38;5;241m=\u001b[39m sunset\n",
      "\u001b[0;31mTargetNotUpError\u001b[0m: You selected a sunset start for NGC 5846, but NGC 5846 \n is not above minimum altitude (35 deg) at sunset. \n You probably want None or target_rise"
     ]
    }
   ],
   "source": [
    "ngc = Observation(target='NGC 5846',\n",
    "                  exptime=3600,\n",
    "                  iterations=2,\n",
    "                  do_focus=True,\n",
    "                  min_altitude=35)\n",
    "ngc.configure_observation(wait_until='sunset',\n",
    "                    dither_angle=15, # dither angle from target center\n",
    "                    dither_pattern=[5,3,7,1,9,2,8,4,6], # dither pattern on grid\n",
    "                    randomize_dithers=True, #choose random dither pattern\n",
    "                    off_band_exptime=600, # 20 sec exposures for the off bands\n",
    "                    off_band_throughout=True)\n",
    "ngc.construct_observing_plan()"
   ]
  },
  {
   "cell_type": "markdown",
   "metadata": {},
   "source": [
    "As we can see, the code returns a `TargetNotUpError`, warning you that you attempted to start observing at sunset, but the target is not up at this time. For now, if you want to start at sunset anyway because you are planning to take flats, etc., at sunset which will take you till the target rises, you can lower the `min_altitude` accordingly. You could also use `QuickObserve` instead. \n",
    "\n",
    "The code should return valuable errors for all sorts of target issues, such as the target rising too late in the night, or the moon setting too late to be useful, if you're waiting until moonset, or your observing plan has more exposure time than the target is up for. \n",
    "\n",
    "As a note, these calculations are carried out via `astropy`, and you can see some of them in action if you wish. For example, "
   ]
  },
  {
   "cell_type": "code",
   "execution_count": 12,
   "metadata": {},
   "outputs": [
    {
     "name": "stdout",
     "output_type": "stream",
     "text": [
      "2022-05-05 19:44:35.553\n",
      "2022-05-05 19:44:35.553\n",
      "2022-05-06 17:59:59.000\n"
     ]
    }
   ],
   "source": [
    "from dfobserve.observing import get_sunset, get_sunrise, get_moonset\n",
    "\n",
    "print(get_sunset())\n",
    "print(get_sunset())\n",
    "print(get_moonset())"
   ]
  },
  {
   "cell_type": "markdown",
   "metadata": {},
   "source": [
    "And you can set specific dates if you choose:"
   ]
  },
  {
   "cell_type": "code",
   "execution_count": 14,
   "metadata": {},
   "outputs": [
    {
     "name": "stdout",
     "output_type": "stream",
     "text": [
      "2022-05-15 19:50:21.846\n"
     ]
    }
   ],
   "source": [
    "print(get_sunset('2022-05-15'))"
   ]
  },
  {
   "cell_type": "markdown",
   "metadata": {},
   "source": [
    "The `Observation` objects can also calculate the target's rise and set time on a given night:"
   ]
  },
  {
   "cell_type": "code",
   "execution_count": 17,
   "metadata": {},
   "outputs": [
    {
     "name": "stdout",
     "output_type": "stream",
     "text": [
      "2022-05-05 19:47:28.699\n",
      "2022-05-06 01:13:34.230\n"
     ]
    }
   ],
   "source": [
    "print(m82.calc_target_rise())\n",
    "print(m82.calc_target_set())"
   ]
  },
  {
   "cell_type": "markdown",
   "metadata": {},
   "source": [
    "As we can see, M82's rise time is shown to be 19:47 (which is just after sunset). If it were before sunset, the rise time would be marked as sunset. And it sets at 01:13 AM. This function can output either local time or UTC by setting a flag:"
   ]
  },
  {
   "cell_type": "code",
   "execution_count": 18,
   "metadata": {},
   "outputs": [
    {
     "name": "stdout",
     "output_type": "stream",
     "text": [
      "2022-05-06 01:47:28.699\n"
     ]
    }
   ],
   "source": [
    "print(m82.calc_target_rise(return_local=False))"
   ]
  },
  {
   "cell_type": "markdown",
   "metadata": {},
   "source": [
    "As a note, this is all currently working because target names conform to names recognizable by `astropy.coordinates.SkyCoord`. However, we can easily allow arbitrary targets (with arbritrary coordinates) to be added, and all of this will still work. "
   ]
  },
  {
   "cell_type": "markdown",
   "metadata": {},
   "source": [
    "### Viewing Observing Plans \n",
    "\n",
    "And that's it! We should now have a servicable observing plan. Let's take a look at what the calculated plan looks like:"
   ]
  },
  {
   "cell_type": "code",
   "execution_count": 19,
   "metadata": {},
   "outputs": [
    {
     "name": "stdout",
     "output_type": "stream",
     "text": [
      "\n",
      "=================== OBSERVING PLAN FOR M82 ===================\n",
      "Summary of user-selected configurations for this observing run. Here\n",
      "are the frames that will be captured....\n",
      "====================================================================\n",
      "Observing was set to start at target_rise, which today is at \n",
      "\n",
      "2022-05-05 19:47:28.699 local time. \n",
      "\n",
      "For Reference, sunset is at 2022-05-05 19:44:35.553 local time today and\n",
      "               moonset is at 2022-05-06 17:59:59.000 local time today.\n",
      "\n",
      "Science Exposures will be taken in the following dither pattern :\n",
      "[8, 6, 4, 2, 3, 9, 7, 5, 1] \n",
      "on a \n",
      "\n",
      "    1   2   3\n",
      "\n",
      "    4   5   6\n",
      "\n",
      "    7   8   9\n",
      "\n",
      "grid. Because the number of science iterations is 2,\n",
      "positions [8, 6] will be observed.\n",
      "\n",
      "The dither angle between pointings is 15 arcminutes.\n",
      "\n",
      "The input tilt angles are\n",
      "    H-alpha : 14.5\n",
      "    [OIII] : 12.6\n",
      "            \n",
      "\n",
      "\n",
      "====================================================================\n",
      "Framelist of proposed observations\n",
      "====================================================================\n",
      "\n",
      "0. flat frame with exptime : 60 s \n",
      "-------------------------------------\n",
      "1. Focus Run \n",
      "-------------------------------------\n",
      "2. standard frame with exptime : 30 s using nearest standard star\n",
      "3. science frame with exptime : 3600 s \n",
      "4. Co-expose of 6 calibration FRAME(s) with EXPTIME : 600 s\n",
      "5. flat frame with exptime : 60 s \n",
      "6. standard frame with exptime : 30 s using nearest standard star\n",
      "7. science frame with exptime : 3600 s \n",
      "8. Co-expose of 6 calibration FRAME(s) with EXPTIME : 600 s\n",
      "9. standard frame with exptime : 30 s using nearest standard star\n",
      "10. flat frame with exptime : 60 s \n",
      "11. dark frame with exptime : 3600 s \n",
      "\n",
      "\n",
      "========================================================================\n",
      "Total Exposure Time (on sky) : 11070 seconds (3.08 hours)\n",
      "Total Number of (non focus) Exposures : 21\n",
      "[does not include focus runs]\n",
      "========================================================================\n",
      "\n"
     ]
    }
   ],
   "source": [
    "m82.view_observing_plan()"
   ]
  },
  {
   "cell_type": "markdown",
   "metadata": {},
   "source": [
    "We can see that at the top, we get some summary information about specifically which dither pointings will be taken and confirm our tilts. \n",
    "\n",
    "Below that, more interestingly, we have a set of proposed observations. This will be the plan followed by `AutoObserve` later, so it's nice to confirm what it's going to attempt to do. We can see that we take standards before, between, and after (due to the `when='all'` key being set), this is also true for flats. We're smart enough to start with flats because the flip flats should already be closed. Darks, meanwhile, are only taken at the end of the run for this target (as desired). \n",
    "\n",
    "We can also see that the code has calculated, for a chosen off-band exposure time of 600 seconds, how many we can fit into one 3600 science exposure (4). At the moment, I think I subtract 1-2 to account for readout overheads; this can be adjusted. \n",
    "\n",
    "At the bottom, we get some info about how long we'll be on this target (not counting overheads) as well as how many exposures we expect (not including any focus stuff). \n",
    "\n",
    "### Conclusion \n",
    "\n",
    "This object should now be ready to go. We can set up any number of targets in the same way, and feed them into `AutoObserve` as a targetlist. Let's try that next."
   ]
  }
 ],
 "metadata": {
  "kernelspec": {
   "display_name": "Python 3 (ipykernel)",
   "language": "python",
   "name": "python3"
  },
  "language_info": {
   "codemirror_mode": {
    "name": "ipython",
    "version": 3
   },
   "file_extension": ".py",
   "mimetype": "text/x-python",
   "name": "python",
   "nbconvert_exporter": "python",
   "pygments_lexer": "ipython3",
   "version": "3.10.4"
  }
 },
 "nbformat": 4,
 "nbformat_minor": 4
}
