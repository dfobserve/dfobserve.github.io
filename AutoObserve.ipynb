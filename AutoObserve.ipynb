{
 "cells": [
  {
   "cell_type": "markdown",
   "metadata": {},
   "source": [
    "# The AutoObserve Class\n",
    "\n",
    "Now that we have `Observation`s ready to go, we can move on to setting up an `AutoObserve` (which can happen in the same script, below target creation. To remind ourselves, here's all the code to setup the `m82` Observation from before:"
   ]
  },
  {
   "cell_type": "code",
   "execution_count": 1,
   "metadata": {},
   "outputs": [],
   "source": [
    "from dfobserve.observing import Observation\n",
    "m82 = Observation(target='M82',\n",
    "                  exptime=3600,\n",
    "                  iterations=2,\n",
    "                  do_focus=True,\n",
    "                  min_altitude=35)\n",
    "m82.configure_observation(wait_until='target_rise',\n",
    "                    dither_angle=15, # dither angle from target center\n",
    "                    dither_pattern=[5,3,7,1,9,2,8,4,6], # dither pattern on grid\n",
    "                    randomize_dithers=True, #choose random dither pattern\n",
    "                    off_band_exptime=600, # 20 sec exposures for the off bands\n",
    "                    off_band_throughout=True)\n",
    "m82.configure_calibrations(n_darks=1,\n",
    "                            dark_exptime=60,\n",
    "                            take_darks='after',\n",
    "                            n_flats=1,\n",
    "                            flat_exptime=60,\n",
    "                            take_flats='all')\n",
    "m82.configure_standards(use='nearest',\n",
    "                        n_standards=1,\n",
    "                        when='all')\n",
    "m82.set_tilts('halpha',14.5)\n",
    "m82.set_tilts('oiii',12.6)"
   ]
  },
  {
   "cell_type": "markdown",
   "metadata": {},
   "source": [
    "Now, let's get going with `AutoObserve`:"
   ]
  },
  {
   "cell_type": "code",
   "execution_count": 2,
   "metadata": {},
   "outputs": [],
   "source": [
    "from dfobserve.observing import AutoObserve\n",
    "\n",
    "targetlist = [m82]"
   ]
  },
  {
   "cell_type": "markdown",
   "metadata": {},
   "source": [
    "For now, we only have 1 target, but at this stage, we'd normally compile our targets (`Observation` objects) into a list as shown. We'll now feed this into `AutoObserve`:"
   ]
  },
  {
   "cell_type": "code",
   "execution_count": 3,
   "metadata": {},
   "outputs": [
    {
     "name": "stdout",
     "output_type": "stream",
     "text": [
      "Global Logfile for this run will be saved to ./2022-04-07_ObservingLog.log\n",
      "CompletedProcess(args='python3 C:/Dragonfly/Programs/MountPisOnPC.py', returncode=2, stdout=b'', stderr=b\"python3: can't open file 'C:/Dragonfly/Programs/MountPisOnPC.py': [Errno 2] No such file or directory\\n\")\n",
      "Setting path to /data/2022-04-07 on each pi\n",
      "CompletedProcess(args=\"python3 C:/Dragonfly/Programs/SendWebRequestToArray.py 'ls -ltr  /data | tail -n 1'\", returncode=2, stdout=b'', stderr=b\"python3: can't open file 'C:/Dragonfly/Programs/SendWebRequestToArray.py': [Errno 2] No such file or directory\\n\")\n"
     ]
    }
   ],
   "source": [
    "obs = AutoObserve(targetlist,\n",
    "                  guide=True,\n",
    "                  save_log_to='./',\n",
    "                  data_dir_on_pis=None)"
   ]
  },
  {
   "cell_type": "markdown",
   "metadata": {},
   "source": [
    "In the bit above, we get a note that the logfile will be saved in the current directory (since we asked), with the date. We also get some errors trying to mount the pis on the control pc.... because I'm running this at home, not on the control pc. Let's not worry about that! \n",
    "\n",
    "With this set up, all we need to do is run"
   ]
  },
  {
   "cell_type": "code",
   "execution_count": null,
   "metadata": {},
   "outputs": [],
   "source": [
    "obs.observe()"
   ]
  },
  {
   "cell_type": "markdown",
   "metadata": {},
   "source": [
    "And we're off to the races! I obviously won't run that here at home. This bit will first iterate over the target list, obtain each target's observing plan, and then execute it. It also handles all needed slewing, checking if the dome is open, starting tracking/guiding, tilting the filters for each target, all that good stuff. \n",
    "\n",
    "Right now, it is in a \"dumb\" state of not having bailouts for things like sunrise, but I'll be adding those things in very shortly.\n",
    "\n",
    "### Conclusion \n",
    "\n",
    "That's it for this! But there's a few more major pieces of the code base that are worth knowing about, and we'll discuss that next. "
   ]
  }
 ],
 "metadata": {
  "kernelspec": {
   "display_name": "Python 3 (ipykernel)",
   "language": "python",
   "name": "python3"
  },
  "language_info": {
   "codemirror_mode": {
    "name": "ipython",
    "version": 3
   },
   "file_extension": ".py",
   "mimetype": "text/x-python",
   "name": "python",
   "nbconvert_exporter": "python",
   "pygments_lexer": "ipython3",
   "version": "3.10.4"
  }
 },
 "nbformat": 4,
 "nbformat_minor": 4
}
