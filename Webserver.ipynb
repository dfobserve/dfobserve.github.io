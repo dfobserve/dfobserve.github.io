{
 "cells": [
  {
   "cell_type": "markdown",
   "metadata": {},
   "source": [
    "# Communicating through the Webserver \n",
    "\n",
    "At a fundamental level, everything is handled by web requests sent through a web server to some or all of the raspberry pis that control each unit. \n",
    "\n",
    "## SendCommand\n",
    "\n",
    "The basic function for carrying out a command is"
   ]
  },
  {
   "cell_type": "code",
   "execution_count": 1,
   "metadata": {},
   "outputs": [],
   "source": [
    "from dfobserve.webserver import SendCommand"
   ]
  },
  {
   "cell_type": "markdown",
   "metadata": {},
   "source": [
    "who's simple docs look like this:"
   ]
  },
  {
   "cell_type": "code",
   "execution_count": null,
   "metadata": {},
   "outputs": [],
   "source": [
    "def SendCommand(command: str,\n",
    "                ip: str,\n",
    "                timeout_seconds: int =10,\n",
    "                name: str = None,\n",
    "                verbose: bool = False):"
   ]
  },
  {
   "cell_type": "markdown",
   "metadata": {},
   "source": [
    "This function takes a url string command that is recognized by the server. This can be simple, like `'status'`, or complex, like `'expose?type=light&time={exptime}&name={name}'`. \n",
    "\n",
    "The function needs the `ip` address to send it to (on the local network), and how long to wait before timing out on no response. One can also add the name of the unit (e.g., \"Dragonfly301\") for prettier printing; this is done automatically when some other functions run this command. The main `SendWebRequest` below essentially wraps this function (which does some checks on what gets returned), and determines which commands should go to which IP addresses,\n",
    "\n",
    "## SendWebRequestNB\n",
    "\n",
    "The big boy of this module is `SendWebRequestNB`, which provides the flexibility to send different commands to all of the different subsystems on the instrument. Its setup looks like this:"
   ]
  },
  {
   "cell_type": "code",
   "execution_count": null,
   "metadata": {},
   "outputs": [],
   "source": [
    "def SendWebRequestNB(command: str = None,\n",
    "                    which: str = 'all',\n",
    "                    ha_command: str = None,\n",
    "                    oiii_command: str = None,\n",
    "                    ha_off_command: str = None,\n",
    "                    oiii_off_command: str = None,\n",
    "                    OH_command: str = None,\n",
    "                    OH_off_command: str = None,\n",
    "                    all_cals_command: str = None,\n",
    "                    verbose: bool= True,\n",
    "                    wait_for_response: bool = True,\n",
    "                    timeout_global: int = 120,\n",
    "                    timeout_seconds: int = 10,\n",
    "                    dryrun = False):"
   ]
  },
  {
   "cell_type": "markdown",
   "metadata": {},
   "source": [
    "In simpler cases, we have a single command we want to send to all, or a simply-defined subset of the units. For example, we might want to send the `AllCloseFlipFlats()` base (web) command, and we know it should just go to the science units (since the others don't have flip flats). Indeed, the way the `AllCloseFlipFlats` assumes we want just the science frames. So under the hood, it runs "
   ]
  },
  {
   "cell_type": "code",
   "execution_count": null,
   "metadata": {},
   "outputs": [],
   "source": [
    "SendWebRequestNB(command='flipflat?command=close&remote=true',\n",
    "                              which=which,\n",
    "                              **kwargs)"
   ]
  },
  {
   "cell_type": "markdown",
   "metadata": {},
   "source": [
    "where in this case, `which` is going to be set to `'science'`. The currently supported options are 'all', 'science', 'science offs', and 'OH' (which sends to both the OH on and OH off units). \n",
    "\n",
    "Beyond this simple usage, we have optional keyword arguments for every single type of unit we have, separately, as well as one for all the cals together. So if we need to send different commands to h-alpha and oiii, we can do that. \n",
    "\n",
    "Indeed, these special keywords *overwrite* the default command. So we could send a command to 'all' using the primary command, and then just overwrite what gets sent to OIII with a separate command. \n",
    "\n",
    "Finally, we have some flags like verbose (print stuff), whether to try to wait for the sticks to *complete* the command (for up to `timeout_global` seconds), and the timeout in seconds for individual connections to send a response before being marked down with the connexction closing. `dryrun` lets us queue a command and look at what we're going to send to each unit in a table before we actually pull the trigger. \n",
    "\n",
    "The Modules inside the `utils` submodule, e.g., `CameraUtils`, or as we've seen, `FlipFlatUtils`, are basically wrappers around `SendWebRequestNB`, allowing you to queue up somewhat complex commands without actually messing with a lot of options or remembering the string-based url-type commands. But you can always resort to this. \n",
    "\n",
    "For example, you could write a \"fully manual\" observing script that specifies in serial every command to send using this. You can also easily *add* convenience functions by wrapping this function and deciding on which things it will set up automatically. \n",
    "\n",
    "To give a concrete example, let's look at the bread and butter command: `AllScienceExposure`:"
   ]
  },
  {
   "cell_type": "code",
   "execution_count": null,
   "metadata": {},
   "outputs": [],
   "source": [
    "def AllScienceExposure(exptime: int,\n",
    "                    off_exptime: int,\n",
    "                    n_offs: int,\n",
    "                    oh_exptime: int=None,\n",
    "                    name: str = None,\n",
    "                    ra: float = None,\n",
    "                    dec: float = None,\n",
    "                    alt: float = None,\n",
    "                    az: float = None,\n",
    "                    wait_readout: int = 60,\n",
    "                    **kwargs):\n",
    "    '''\n",
    "    Execute a standard science exposure\n",
    "    '''\n",
    "    command = f\"expose?type=light\"\n",
    "    if isinstance(name,str):\n",
    "        command+=f\"&name={name}\"\n",
    "    if isinstance(ra,(float,int)):\n",
    "        command+=f\"&ra={ra}\"\n",
    "    if isinstance(dec,(float,int)):\n",
    "        command+=f\"&dec={dec}\"\n",
    "    if isinstance(alt,(float,int)):\n",
    "        command+=f\"&alt={alt}\"\n",
    "    if isinstance(az,(float,int)):\n",
    "        command+=f\"&az={az}\"\n",
    "    \n",
    "    science_command = command + f\"&time={exptime}\"\n",
    "    offs_command = command + f\"&time={off_exptime}&nlight={n_offs}\"\n",
    "    if isinstance(oh_exptime,int):\n",
    "        oh_command = command + f\"&time={oh_exptime}\"\n",
    "    else:\n",
    "        oh_command = science_command\n",
    "    timeout = exptime+wait_readout\n",
    "    response = SendWebRequestNB(command=offs_command,\n",
    "                                which='science offs',\n",
    "                                ha_command=science_command,\n",
    "                                oiii_command=science_command,\n",
    "                                OH_command=oh_command,\n",
    "                                OH_off_command=oh_command,\n",
    "                                timeout_global=timeout,\n",
    "                                **kwargs)\n",
    "    return response"
   ]
  },
  {
   "cell_type": "markdown",
   "metadata": {},
   "source": [
    "This function is responsible for (in most case) executing the science exposures. It reads in some specific things fed to it by `AutoObserve`, retrieved from an object's observing plan. It allows for the OH-band exptime to be set (but if it isn't, uses the science exposure time). It sets up the string commands for the science and offs, telling the offs to do n iterations (based on other calculations). And at the end, we can see it wraps `SendWebRequestNB`. \n",
    "\n",
    "Ironically, the shortest way was by setting the `offs_command` to the primary, with `which = 'science offs'`, which handles the ha and oiii offbands. Then we feed the science command to both ha and oiii, and the oh_command to both oh and oh off. And we use a special global timeout set to the exposure time plus some number of seconds, to ensure the script waits the length of the exposure plus some read out time, before closing. \n",
    "\n",
    "`SendWebRequestNB` constructs a `pandas` `DataFrame` to store all the commands it is going to send where; this data frame with the responses at the time it finishes (either all sticks respond as 'SUCCESS' or the timeout is reached) is returned and added to the log (or printed for examination). "
   ]
  },
  {
   "cell_type": "markdown",
   "metadata": {},
   "source": [
    "Let's say we want to tilt Halpha filters to 12 degrees. We'd run"
   ]
  },
  {
   "cell_type": "code",
   "execution_count": null,
   "metadata": {},
   "outputs": [],
   "source": [
    "res = SendWebRequestNB(ha_command='device/filtertilter?command=set&argument=12')"
   ]
  },
  {
   "cell_type": "markdown",
   "metadata": {},
   "source": [
    "This would send the request only to the Halpha units. Alternatively, "
   ]
  },
  {
   "cell_type": "code",
   "execution_count": null,
   "metadata": {},
   "outputs": [],
   "source": [
    "SendWebRequestNB(command='device/filtertilter?command=set&argument=12',which='science')"
   ]
  },
  {
   "cell_type": "markdown",
   "metadata": {},
   "source": [
    "would tilt both the Halpha and OIII filters to this amount, and "
   ]
  },
  {
   "cell_type": "code",
   "execution_count": null,
   "metadata": {},
   "outputs": [],
   "source": [
    "SendWebRequestNB(command='device/filtertilter?command=set&argument=12')"
   ]
  },
  {
   "cell_type": "markdown",
   "metadata": {},
   "source": [
    "would send it to all units (even the calibration ones)."
   ]
  },
  {
   "cell_type": "code",
   "execution_count": null,
   "metadata": {},
   "outputs": [],
   "source": []
  }
 ],
 "metadata": {
  "kernelspec": {
   "display_name": "Python 3",
   "language": "python",
   "name": "python3"
  },
  "language_info": {
   "codemirror_mode": {
    "name": "ipython",
    "version": 3
   },
   "file_extension": ".py",
   "mimetype": "text/x-python",
   "name": "python",
   "nbconvert_exporter": "python",
   "pygments_lexer": "ipython3",
   "version": "3.8.5"
  }
 },
 "nbformat": 4,
 "nbformat_minor": 4
}
